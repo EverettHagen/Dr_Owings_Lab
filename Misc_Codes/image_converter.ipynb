{
 "cells": [
  {
   "cell_type": "code",
   "execution_count": null,
   "id": "8cf5d2dd",
   "metadata": {},
   "outputs": [],
   "source": [
    "import base64\n",
    "\n",
    "# change 'logo.png' to your image file\n",
    "with open(\"../University - HorizRightLogo-OnDark (RGB).png\", \"rb\") as image_file:\n",
    "    encoded = base64.b64encode(image_file.read()).decode(\"utf-8\")\n",
    "\n",
    "print(\"data:image/png;base64,\" + encoded)"
   ]
  }
 ],
 "metadata": {
  "language_info": {
   "name": "python"
  }
 },
 "nbformat": 4,
 "nbformat_minor": 5
}
